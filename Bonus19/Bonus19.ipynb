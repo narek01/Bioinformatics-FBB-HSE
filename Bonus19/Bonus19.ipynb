{
 "cells": [
  {
   "cell_type": "code",
   "execution_count": 1,
   "metadata": {},
   "outputs": [],
   "source": [
    "import pandas as pd\n",
    "import numpy as np\n",
    "\n",
    "from sklearn.pipeline import Pipeline\n",
    "from sklearn.preprocessing import StandardScaler\n",
    "from sklearn.neighbors import KNeighborsClassifier\n",
    "from sklearn.decomposition import PCA\n",
    "from sklearn.manifold import TSNE\n",
    "from sklearn.metrics import make_scorer\n",
    "from sklearn.metrics import accuracy_score\n",
    "from sklearn.model_selection import RepeatedStratifiedKFold\n",
    "from sklearn.model_selection import GridSearchCV"
   ]
  },
  {
   "cell_type": "code",
   "execution_count": 3,
   "metadata": {},
   "outputs": [],
   "source": [
    "def res(cv):\n",
    "    par, s = cv.best_params_, cv.best_score_\n",
    "    print(\"Number of neighbors:\", par['clf__n_neighbors'])\n",
    "    print(\"Weights:\", par['clf__weights'])\n",
    "    if par['clf__p'] == 1:\n",
    "        p = \"Manhattan\"\n",
    "    elif par['clf__p'] == 2:\n",
    "        p = \"Euclidean\"\n",
    "    print(p, \"metric is used\")\n",
    "    print(\"Best score is:\", str(round(100*s, 1)) + \"%\")"
   ]
  },
  {
   "cell_type": "code",
   "execution_count": 4,
   "metadata": {},
   "outputs": [],
   "source": [
    "df = pd.read_csv(\"BRCA_pam50.tsv\", sep=\"\\t\", index_col=0)\n",
    "X = df.iloc[:, :-1].to_numpy()\n",
    "#X = df.loc[:,[\"ERBB2\", \"ESR1\", \"MKI67\", \"PGR\"]].to_numpy()\n",
    "y = df[\"Subtype\"].to_numpy()"
   ]
  },
  {
   "cell_type": "code",
   "execution_count": 5,
   "metadata": {},
   "outputs": [],
   "source": [
    "X_tsne = TSNE(n_components=2, perplexity=30).fit_transform(X)\n",
    "X_pca = PCA(n_components=2).fit_transform(X)"
   ]
  },
  {
   "cell_type": "code",
   "execution_count": 6,
   "metadata": {},
   "outputs": [],
   "source": [
    "model = Pipeline([\n",
    "    (\"scaler\", StandardScaler()),\n",
    "    (\"clf\", KNeighborsClassifier(n_jobs=-1))\n",
    "])\n",
    "\n",
    "params = {\n",
    "    \"clf__n_neighbors\": [1, 3, 5, 7, 9],\n",
    "    \"clf__weights\": [\"uniform\", \"distance\"],\n",
    "    \"clf__p\": [1, 2]\n",
    "}"
   ]
  },
  {
   "cell_type": "markdown",
   "metadata": {},
   "source": [
    "### Without embedding (50 dimensions)"
   ]
  },
  {
   "cell_type": "code",
   "execution_count": 7,
   "metadata": {},
   "outputs": [],
   "source": [
    "cv = GridSearchCV(\n",
    "    model, params, n_jobs=-1,\n",
    "    scoring=make_scorer(accuracy_score),\n",
    "    cv=RepeatedStratifiedKFold(n_repeats=20)\n",
    ")"
   ]
  },
  {
   "cell_type": "code",
   "execution_count": 8,
   "metadata": {
    "scrolled": true
   },
   "outputs": [
    {
     "name": "stdout",
     "output_type": "stream",
     "text": [
      "Number of neighbors: 5\n",
      "Weights: uniform\n",
      "Manhattan metric is used\n",
      "Best score is: 89.9%\n"
     ]
    }
   ],
   "source": [
    "cv.fit(X, y)\n",
    "res(cv)"
   ]
  },
  {
   "cell_type": "code",
   "execution_count": 9,
   "metadata": {},
   "outputs": [
    {
     "name": "stdout",
     "output_type": "stream",
     "text": [
      "Number of neighbors: 5\n",
      "Weights: uniform\n",
      "Euclidean metric is used\n",
      "Best score is: 89.2%\n"
     ]
    }
   ],
   "source": [
    "# t-SNE: 2 dimensions\n",
    "cv.fit(X_tsne, y)\n",
    "res(cv)"
   ]
  },
  {
   "cell_type": "code",
   "execution_count": 10,
   "metadata": {},
   "outputs": [
    {
     "name": "stdout",
     "output_type": "stream",
     "text": [
      "Number of neighbors: 9\n",
      "Weights: uniform\n",
      "Euclidean metric is used\n",
      "Best score is: 85.6%\n"
     ]
    }
   ],
   "source": [
    "# PCA: 2 dimensions\n",
    "cv.fit(X_pca, y)\n",
    "res(cv)"
   ]
  },
  {
   "cell_type": "code",
   "execution_count": null,
   "metadata": {},
   "outputs": [],
   "source": []
  },
  {
   "cell_type": "code",
   "execution_count": null,
   "metadata": {},
   "outputs": [],
   "source": []
  }
 ],
 "metadata": {
  "kernelspec": {
   "display_name": "Python 3",
   "language": "python",
   "name": "python3"
  },
  "language_info": {
   "codemirror_mode": {
    "name": "ipython",
    "version": 3
   },
   "file_extension": ".py",
   "mimetype": "text/x-python",
   "name": "python",
   "nbconvert_exporter": "python",
   "pygments_lexer": "ipython3",
   "version": "3.8.5"
  }
 },
 "nbformat": 4,
 "nbformat_minor": 4
}
